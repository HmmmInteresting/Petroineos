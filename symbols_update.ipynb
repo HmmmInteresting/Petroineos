{
 "cells": [
  {
   "cell_type": "markdown",
   "id": "b68b124b-3d52-406d-b92e-989db0a4dbfa",
   "metadata": {},
   "source": [
    "**Internsip | Summer 2024** #CODE BEGINS AT BOTTOM"
   ]
  },
  {
   "cell_type": "markdown",
   "id": "bbad0aee-b27c-43fe-b081-7e614d098894",
   "metadata": {},
   "source": [
    "**IMPORTANT**\n",
    "\n",
    "You can use this **Jupyter** notebook *symbols_update.ipynb* to complete the assignment. \n",
    "\n",
    "If you are not familiar with **Jupyter**, please feel free to develop your solution using standard **.py** file instead.\n",
    "\n",
    "To complete the assignment, you will need to **pip install pandas** library.\n",
    "\n",
    "Please upload all your work to public **GitHub** repository and share the link with us."
   ]
  },
  {
   "cell_type": "markdown",
   "id": "d782eddd-aca1-4a74-aa87-41a2df0581e0",
   "metadata": {},
   "source": [
    "There are three .csv files that we want to upload sequentially to the database: **symbols_update_1.csv**, **symbols_update_2.csv**, and **symbols_update_3.csv**. For the sake of simplicity, the database is represented by another .csv file **database.csv**.\n",
    "\n",
    "The goal it to complete **SymbolsUpdate** class with three functions:\n",
    "- ***load_new_data_from_file*** : loads and processes data from **symbols_update_n.csv** file\n",
    "- ***save_new_data*** : saves loaded data to the **database.csv** file\n",
    "- ***get_data_from_database*** : returns the most recently updated data for every symbol in **database.csv**"
   ]
  },
  {
   "cell_type": "code",
   "execution_count": null,
   "id": "2a78bc57-4811-4c12-be9c-23f0eedb8fd8",
   "metadata": {},
   "outputs": [],
   "source": [
    "class SymbolsUpdate(object):\n",
    "    def __init__(self ):\n",
    "        self.database_file = 'database.csv'\n",
    "\n",
    "    def load_new_data_from_file(self, file_path: str):\n",
    "        pass\n",
    "        \n",
    "    def save_new_data(self, input_data: pd.DataFrame):   \n",
    "        pass\n",
    "        \n",
    "    def get_data_from_database(self):\n",
    "        pass"
   ]
  },
  {
   "cell_type": "markdown",
   "id": "146a18d3-a538-4576-865f-8e6cb8ad733b",
   "metadata": {},
   "source": [
    "Running the model should return the following table:"
   ]
  },
  {
   "cell_type": "code",
   "execution_count": null,
   "id": "00612d0b-7f3d-4933-b866-b96ae3dd1749",
   "metadata": {},
   "outputs": [],
   "source": [
    "su = SymbolsUpdate()\n",
    "new_data = su.load_new_data_from_file('symbols_update_1.csv')\n",
    "su.save_new_data(new_data)\n",
    "new_data = su.load_new_data_from_file('symbols_update_2.csv')\n",
    "su.save_new_data(new_data)\n",
    "new_data = su.load_new_data_from_file('symbols_update_3.csv')\n",
    "su.save_new_data(new_data)"
   ]
  },
  {
   "cell_type": "code",
   "execution_count": 3,
   "id": "998f29f9-2145-401f-8553-32713ce0f50d",
   "metadata": {},
   "outputs": [
    {
     "data": {
      "image/png": "[encoded data removed]",
      "text/plain": [
       "<IPython.core.display.Image object>"
      ]
     },
     "execution_count": 3,
     "metadata": {},
     "output_type": "execute_result"
    }
   ],
   "source": [
    "from IPython.display import Image\n",
    "Image('output.png')"
   ]
  },
  {
   "cell_type": "markdown",
   "id": "87036716-6823-4649-a733-5cd86a57bc20",
   "metadata": {},
   "source": [
    "Please note:  \n",
    "- *isin* and *cusip* columns from **symbols_update_n.csv** files are stored as item/item_value pairs in **database.csv**\n",
    "- *country id* is derived from the *isin* field (e.g. US01222911 is US, GB12222201 is GB, etc…)\n",
    "- The most recent update for each symbol is returned based on the **updatetime** column"
   ]
  },
  {
   "cell_type": "markdown",
   "id": "90187aac-7ce3-4191-a7ad-0f3c04bf584b",
   "metadata": {},
   "source": [
    "**Good luck!!!**"
   ]
  },
  {
   "cell_type": "code",
   "execution_count": 1,
   "id": "a5aece33",
   "metadata": {},
   "outputs": [],
   "source": [
    "#CODE BEGINS NOW:"
   ]
  },
  {
   "cell_type": "code",
   "execution_count": 2,
   "id": "2227e753",
   "metadata": {},
   "outputs": [],
   "source": [
    "import pandas as pd\n",
    "from datetime import datetime\n",
    "pd.set_option('display.max_columns', None) \n",
    "pd.set_option('display.width', 1000)        \n",
    "pd.set_option('display.max_colwidth', None)"
   ]
  },
  {
   "cell_type": "code",
   "execution_count": 3,
   "id": "b779fd99",
   "metadata": {},
   "outputs": [],
   "source": [
    "class SymbolsUpdate:\n",
    "    def __init__(self):\n",
    "        self.database_file = 'database.csv'\n",
    "        self.country_codes = {'US': 'US', \n",
    "                              'GB': 'Great Britain', \n",
    "                              'DE': 'Germany', \n",
    "                              'FR': 'France', \n",
    "                              'IT': 'Italy',\n",
    "                              'BE': 'Belgium'  \n",
    "                             }\n",
    "    \n",
    "    def load_new_data_from_file(self, file_path: str):\n",
    "        df = pd.read_csv(file_path)\n",
    "        processed_data = []\n",
    "        \n",
    "        for _, row in df.iterrows():\n",
    "            country_code = row['isin'][:2]\n",
    "            country = self.country_codes.get(country_code, 'Unknown')\n",
    "            current_time = datetime.now().strftime(\"%Y-%m-%d %H:%M:%S\")\n",
    "            \n",
    "            # Entry for CUSIP\n",
    "            processed_data.append({\n",
    "                'Symbol': row['symbol'],\n",
    "                'Hold': row['hold'],\n",
    "                'Country': country,\n",
    "                'Item': 'cusip',\n",
    "                'Item_value': row['cusip'],\n",
    "                'Updatedby': 'petroineos',  \n",
    "                'Updatetime': current_time\n",
    "            })\n",
    "            \n",
    "            # Entry for ISIN\n",
    "            processed_data.append({\n",
    "                'Symbol': row['symbol'],\n",
    "                'Hold': row['hold'],\n",
    "                'Country': country,\n",
    "                'Item': 'isin',\n",
    "                'Item_value': row['isin'],\n",
    "                'Updatedby': 'petroineos',  \n",
    "                'Updatetime': current_time\n",
    "            })\n",
    "        \n",
    "        return pd.DataFrame(processed_data)\n",
    "    \n",
    "    def save_new_data(self, input_data: pd.DataFrame):\n",
    "        try:\n",
    "            db_df = pd.read_csv(self.database_file)\n",
    "        except FileNotFoundError:\n",
    "            db_df = pd.DataFrame()\n",
    "        \n",
    "        updated_db = pd.concat([db_df, input_data]).drop_duplicates(subset=['Symbol', 'Item'], keep='last')\n",
    "        updated_db.sort_values('Symbol', inplace=True)\n",
    "        updated_db.reset_index(drop=True, inplace=True)\n",
    "        updated_db.to_csv(self.database_file, index=False)\n",
    "    \n",
    "    def get_data_from_database(self):\n",
    "        try:\n",
    "            db_df = pd.read_csv(self.database_file)\n",
    "            return db_df\n",
    "        except FileNotFoundError:\n",
    "            return pd.DataFrame()"
   ]
  },
  {
   "cell_type": "code",
   "execution_count": 4,
   "id": "1aee32bd",
   "metadata": {},
   "outputs": [
    {
     "data": {
      "text/html": [
       "<div>\n",
       "<style scoped>\n",
       "    .dataframe tbody tr th:only-of-type {\n",
       "        vertical-align: middle;\n",
       "    }\n",
       "\n",
       "    .dataframe tbody tr th {\n",
       "        vertical-align: top;\n",
       "    }\n",
       "\n",
       "    .dataframe thead th {\n",
       "        text-align: right;\n",
       "    }\n",
       "</style>\n",
       "<table border=\"1\" class=\"dataframe\">\n",
       "  <thead>\n",
       "    <tr style=\"text-align: right;\">\n",
       "      <th></th>\n",
       "      <th>Symbol</th>\n",
       "      <th>Hold</th>\n",
       "      <th>Country</th>\n",
       "      <th>Item</th>\n",
       "      <th>Item_value</th>\n",
       "      <th>Updatedby</th>\n",
       "      <th>Updatetime</th>\n",
       "    </tr>\n",
       "  </thead>\n",
       "  <tbody>\n",
       "    <tr>\n",
       "      <th>0</th>\n",
       "      <td>AAAA</td>\n",
       "      <td>0</td>\n",
       "      <td>US</td>\n",
       "      <td>cusip</td>\n",
       "      <td>A234AC</td>\n",
       "      <td>petroineos</td>\n",
       "      <td>2024-05-18 13:54:23</td>\n",
       "    </tr>\n",
       "    <tr>\n",
       "      <th>1</th>\n",
       "      <td>AAAA</td>\n",
       "      <td>0</td>\n",
       "      <td>US</td>\n",
       "      <td>isin</td>\n",
       "      <td>US01222911</td>\n",
       "      <td>petroineos</td>\n",
       "      <td>2024-05-18 13:54:23</td>\n",
       "    </tr>\n",
       "    <tr>\n",
       "      <th>2</th>\n",
       "      <td>BBBB</td>\n",
       "      <td>1</td>\n",
       "      <td>Great Britain</td>\n",
       "      <td>cusip</td>\n",
       "      <td>123998</td>\n",
       "      <td>petroineos</td>\n",
       "      <td>2024-05-18 13:54:23</td>\n",
       "    </tr>\n",
       "    <tr>\n",
       "      <th>3</th>\n",
       "      <td>BBBB</td>\n",
       "      <td>1</td>\n",
       "      <td>Great Britain</td>\n",
       "      <td>isin</td>\n",
       "      <td>GB12222201</td>\n",
       "      <td>petroineos</td>\n",
       "      <td>2024-05-18 13:54:23</td>\n",
       "    </tr>\n",
       "    <tr>\n",
       "      <th>4</th>\n",
       "      <td>CCCC</td>\n",
       "      <td>1</td>\n",
       "      <td>US</td>\n",
       "      <td>cusip</td>\n",
       "      <td>G129111</td>\n",
       "      <td>petroineos</td>\n",
       "      <td>2024-05-18 13:54:23</td>\n",
       "    </tr>\n",
       "    <tr>\n",
       "      <th>5</th>\n",
       "      <td>CCCC</td>\n",
       "      <td>1</td>\n",
       "      <td>US</td>\n",
       "      <td>isin</td>\n",
       "      <td>US01239811</td>\n",
       "      <td>petroineos</td>\n",
       "      <td>2024-05-18 13:54:23</td>\n",
       "    </tr>\n",
       "    <tr>\n",
       "      <th>6</th>\n",
       "      <td>DDDD</td>\n",
       "      <td>1</td>\n",
       "      <td>Italy</td>\n",
       "      <td>cusip</td>\n",
       "      <td>78321</td>\n",
       "      <td>petroineos</td>\n",
       "      <td>2024-05-18 13:54:23</td>\n",
       "    </tr>\n",
       "    <tr>\n",
       "      <th>7</th>\n",
       "      <td>DDDD</td>\n",
       "      <td>1</td>\n",
       "      <td>Italy</td>\n",
       "      <td>isin</td>\n",
       "      <td>IT92812323</td>\n",
       "      <td>petroineos</td>\n",
       "      <td>2024-05-18 13:54:23</td>\n",
       "    </tr>\n",
       "    <tr>\n",
       "      <th>8</th>\n",
       "      <td>GGGG</td>\n",
       "      <td>1</td>\n",
       "      <td>Belgium</td>\n",
       "      <td>cusip</td>\n",
       "      <td>B54334AC</td>\n",
       "      <td>petroineos</td>\n",
       "      <td>2024-05-18 13:54:23</td>\n",
       "    </tr>\n",
       "    <tr>\n",
       "      <th>9</th>\n",
       "      <td>GGGG</td>\n",
       "      <td>1</td>\n",
       "      <td>Belgium</td>\n",
       "      <td>isin</td>\n",
       "      <td>BE012568156</td>\n",
       "      <td>petroineos</td>\n",
       "      <td>2024-05-18 13:54:23</td>\n",
       "    </tr>\n",
       "  </tbody>\n",
       "</table>\n",
       "</div>"
      ],
      "text/plain": [
       "  Symbol  Hold        Country   Item   Item_value   Updatedby           Updatetime\n",
       "0   AAAA     0             US  cusip       A234AC  petroineos  2024-05-18 13:54:23\n",
       "1   AAAA     0             US   isin   US01222911  petroineos  2024-05-18 13:54:23\n",
       "2   BBBB     1  Great Britain  cusip       123998  petroineos  2024-05-18 13:54:23\n",
       "3   BBBB     1  Great Britain   isin   GB12222201  petroineos  2024-05-18 13:54:23\n",
       "4   CCCC     1             US  cusip      G129111  petroineos  2024-05-18 13:54:23\n",
       "5   CCCC     1             US   isin   US01239811  petroineos  2024-05-18 13:54:23\n",
       "6   DDDD     1          Italy  cusip        78321  petroineos  2024-05-18 13:54:23\n",
       "7   DDDD     1          Italy   isin   IT92812323  petroineos  2024-05-18 13:54:23\n",
       "8   GGGG     1        Belgium  cusip     B54334AC  petroineos  2024-05-18 13:54:23\n",
       "9   GGGG     1        Belgium   isin  BE012568156  petroineos  2024-05-18 13:54:23"
      ]
     },
     "execution_count": 4,
     "metadata": {},
     "output_type": "execute_result"
    }
   ],
   "source": [
    "su = SymbolsUpdate()\n",
    "new_data = su.load_new_data_from_file('symbols_update_1.csv')\n",
    "su.save_new_data(new_data)\n",
    "new_data = su.load_new_data_from_file('symbols_update_2.csv')\n",
    "su.save_new_data(new_data)\n",
    "new_data = su.load_new_data_from_file('symbols_update_3.csv')\n",
    "su.save_new_data(new_data)\n",
    "\n",
    "su.get_data_from_database()"
   ]
  },
  {
   "cell_type": "code",
   "execution_count": null,
   "id": "b9429468",
   "metadata": {},
   "outputs": [],
   "source": []
  }
 ],
 "metadata": {
  "kernelspec": {
   "display_name": "Python 3 (ipykernel)",
   "language": "python",
   "name": "python3"
  },
  "language_info": {
   "codemirror_mode": {
    "name": "ipython",
    "version": 3
   },
   "file_extension": ".py",
   "mimetype": "text/x-python",
   "name": "python",
   "nbconvert_exporter": "python",
   "pygments_lexer": "ipython3",
   "version": "3.11.5"
  }
 },
 "nbformat": 4,
 "nbformat_minor": 5
}
